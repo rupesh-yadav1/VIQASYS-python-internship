{
 "cells": [
  {
   "cell_type": "markdown",
   "metadata": {},
   "source": [
    "___\n",
    "\n",
    "<a href='https://viqasys.com/wp-content/uploads/2021/07/ns1.png'><img src='https://viqasys.com/wp-content/uploads/2021/07/ns1.png'/></a>\n",
    "___\n",
    "<center><em>Content Copyright VIQASYS INNOVATIONS PVT LTD.</em></center>\n",
    "\n",
    "# Assignment 1"
   ]
  },
  {
   "cell_type": "markdown",
   "metadata": {},
   "source": [
    "# Question 1\n",
    "\n",
    "Write a program to calculate the area of a circle when the radius is given."
   ]
  },
  {
   "cell_type": "code",
   "execution_count": 27,
   "metadata": {},
   "outputs": [
    {
     "name": "stdout",
     "output_type": "stream",
     "text": [
      "area of the circle is  28.259999999999998\n"
     ]
    }
   ],
   "source": [
    "#le the radius of the given circle is 3m\n",
    "def area(r):\n",
    " return 3.14*r*r \n",
    "print(\"area of the circle is \",area(3))\n",
    " \n",
    "\n"
   ]
  },
  {
   "cell_type": "markdown",
   "metadata": {},
   "source": [
    "## Question 2\n",
    "\n",
    "Write a program to determine whether a number is positive, negative, or zero."
   ]
  },
  {
   "cell_type": "code",
   "execution_count": 28,
   "metadata": {},
   "outputs": [
    {
     "name": "stdout",
     "output_type": "stream",
     "text": [
      "the number entered is positive\n"
     ]
    }
   ],
   "source": [
    "a=int(input(\"enter number \"))\n",
    "if a>0:\n",
    " print(\"the number entered is positive\")\n",
    "elif a<0:\n",
    " print(\"the number entered is negative\")\n",
    "elif a==0 :\n",
    " print(\"the number entered is zero \")\n",
    "else:\n",
    " print(\"invalid input \")"
   ]
  },
  {
   "cell_type": "markdown",
   "metadata": {},
   "source": [
    " Question 3\n",
    "Describe three different data types commonly used in programming"
   ]
  },
  {
   "cell_type": "markdown",
   "metadata": {},
   "source": [
    "1.Integer (int): Integers are whole numbers without any decimal point. They can be either positive or negative. In most programming languages, integers have a fixed range determined by the number of bits used to represent them. For example, in a 32-bit system, integers typically range from -2,147,483,648 to 2,147,483,647.\n",
    "2.String: A string is a sequence of characters, such as letters, digits, and special symbols. Strings are typically used to represent text data in programming. They are often enclosed within single quotes (' ') or double quotes (\" \"). For example, \"Hello, World!\" is a string.\n",
    "3.Float (floating-point number): Floats are numbers that contain a decimal point or use exponential notation. They represent real numbers and are used when more precision is needed than what integers can provide. Floats can represent both rational and irrational numbers. For example, 3.14 or 2.71828 are float numbers."
   ]
  },
  {
   "cell_type": "markdown",
   "metadata": {},
   "source": [
    "## Question 5\n",
    "\n",
    "Write a program to calculate the number of days between two given dates."
   ]
  },
  {
   "cell_type": "code",
   "execution_count": 29,
   "metadata": {},
   "outputs": [
    {
     "name": "stdout",
     "output_type": "stream",
     "text": [
      "Number of days between 2024-04-01 and 2024-04-30 is: 29\n"
     ]
    }
   ],
   "source": [
    "from datetime import datetime\n",
    "\n",
    "def days_between_dates(date1, date2):\n",
    "\n",
    "    date1 = datetime.strptime(date1, \"%Y-%m-%d\")\n",
    "    date2 = datetime.strptime(date2, \"%Y-%m-%d\")\n",
    "    \n",
    "    delta = date2 - date1\n",
    "    \n",
    "    return abs(delta.days)\n",
    "\n",
    "date1 = \"2024-04-01\"\n",
    "date2 = \"2024-04-30\"\n",
    "print(\"Number of days between\", date1, \"and\", date2, \"is:\", days_between_dates(date1, date2))\n"
   ]
  },
  {
   "cell_type": "markdown",
   "metadata": {},
   "source": [
    "## Question 6\n",
    "Write a program to calculate the volume of a sphere given its radius."
   ]
  },
  {
   "cell_type": "code",
   "execution_count": 30,
   "metadata": {},
   "outputs": [
    {
     "name": "stdout",
     "output_type": "stream",
     "text": [
      "the volume of sphere is  29.306666666666665 m^3\n"
     ]
    }
   ],
   "source": [
    "def volume(r):\n",
    " return (4/3)*3.14*(r^3)\n",
    "print(\"the volume of sphere is \",volume(4),\"m^3\")"
   ]
  },
  {
   "cell_type": "markdown",
   "metadata": {},
   "source": [
    "## Question 7\n",
    "Write a program to get the difference between a given number and 17, if the number is greater than 17, return double the absolute difference.3\n",
    "\n"
   ]
  },
  {
   "cell_type": "code",
   "execution_count": 31,
   "metadata": {},
   "outputs": [
    {
     "ename": "KeyboardInterrupt",
     "evalue": "Interrupted by user",
     "output_type": "error",
     "traceback": [
      "\u001b[1;31m---------------------------------------------------------------------------\u001b[0m",
      "\u001b[1;31mKeyboardInterrupt\u001b[0m                         Traceback (most recent call last)",
      "Cell \u001b[1;32mIn[31], line 8\u001b[0m\n\u001b[0;32m      5\u001b[0m     \u001b[38;5;28;01melse\u001b[39;00m:\n\u001b[0;32m      6\u001b[0m         \u001b[38;5;28;01mreturn\u001b[39;00m sub\n\u001b[1;32m----> 8\u001b[0m num \u001b[38;5;241m=\u001b[39m \u001b[38;5;28mfloat\u001b[39m(\u001b[38;5;28;43minput\u001b[39;49m\u001b[43m(\u001b[49m\u001b[38;5;124;43m\"\u001b[39;49m\u001b[38;5;124;43mEnter the number: \u001b[39;49m\u001b[38;5;124;43m\"\u001b[39;49m\u001b[43m)\u001b[49m)\n\u001b[0;32m      9\u001b[0m result \u001b[38;5;241m=\u001b[39m calculate_difference(num)\n\u001b[0;32m     10\u001b[0m \u001b[38;5;28mprint\u001b[39m(\u001b[38;5;124m\"\u001b[39m\u001b[38;5;124mThe result of subtraction is:\u001b[39m\u001b[38;5;124m\"\u001b[39m, result)\n",
      "File \u001b[1;32m~\\AppData\\Roaming\\Python\\Python312\\site-packages\\ipykernel\\kernelbase.py:1282\u001b[0m, in \u001b[0;36mKernel.raw_input\u001b[1;34m(self, prompt)\u001b[0m\n\u001b[0;32m   1280\u001b[0m     msg \u001b[38;5;241m=\u001b[39m \u001b[38;5;124m\"\u001b[39m\u001b[38;5;124mraw_input was called, but this frontend does not support input requests.\u001b[39m\u001b[38;5;124m\"\u001b[39m\n\u001b[0;32m   1281\u001b[0m     \u001b[38;5;28;01mraise\u001b[39;00m StdinNotImplementedError(msg)\n\u001b[1;32m-> 1282\u001b[0m \u001b[38;5;28;01mreturn\u001b[39;00m \u001b[38;5;28;43mself\u001b[39;49m\u001b[38;5;241;43m.\u001b[39;49m\u001b[43m_input_request\u001b[49m\u001b[43m(\u001b[49m\n\u001b[0;32m   1283\u001b[0m \u001b[43m    \u001b[49m\u001b[38;5;28;43mstr\u001b[39;49m\u001b[43m(\u001b[49m\u001b[43mprompt\u001b[49m\u001b[43m)\u001b[49m\u001b[43m,\u001b[49m\n\u001b[0;32m   1284\u001b[0m \u001b[43m    \u001b[49m\u001b[38;5;28;43mself\u001b[39;49m\u001b[38;5;241;43m.\u001b[39;49m\u001b[43m_parent_ident\u001b[49m\u001b[43m[\u001b[49m\u001b[38;5;124;43m\"\u001b[39;49m\u001b[38;5;124;43mshell\u001b[39;49m\u001b[38;5;124;43m\"\u001b[39;49m\u001b[43m]\u001b[49m\u001b[43m,\u001b[49m\n\u001b[0;32m   1285\u001b[0m \u001b[43m    \u001b[49m\u001b[38;5;28;43mself\u001b[39;49m\u001b[38;5;241;43m.\u001b[39;49m\u001b[43mget_parent\u001b[49m\u001b[43m(\u001b[49m\u001b[38;5;124;43m\"\u001b[39;49m\u001b[38;5;124;43mshell\u001b[39;49m\u001b[38;5;124;43m\"\u001b[39;49m\u001b[43m)\u001b[49m\u001b[43m,\u001b[49m\n\u001b[0;32m   1286\u001b[0m \u001b[43m    \u001b[49m\u001b[43mpassword\u001b[49m\u001b[38;5;241;43m=\u001b[39;49m\u001b[38;5;28;43;01mFalse\u001b[39;49;00m\u001b[43m,\u001b[49m\n\u001b[0;32m   1287\u001b[0m \u001b[43m\u001b[49m\u001b[43m)\u001b[49m\n",
      "File \u001b[1;32m~\\AppData\\Roaming\\Python\\Python312\\site-packages\\ipykernel\\kernelbase.py:1325\u001b[0m, in \u001b[0;36mKernel._input_request\u001b[1;34m(self, prompt, ident, parent, password)\u001b[0m\n\u001b[0;32m   1322\u001b[0m \u001b[38;5;28;01mexcept\u001b[39;00m \u001b[38;5;167;01mKeyboardInterrupt\u001b[39;00m:\n\u001b[0;32m   1323\u001b[0m     \u001b[38;5;66;03m# re-raise KeyboardInterrupt, to truncate traceback\u001b[39;00m\n\u001b[0;32m   1324\u001b[0m     msg \u001b[38;5;241m=\u001b[39m \u001b[38;5;124m\"\u001b[39m\u001b[38;5;124mInterrupted by user\u001b[39m\u001b[38;5;124m\"\u001b[39m\n\u001b[1;32m-> 1325\u001b[0m     \u001b[38;5;28;01mraise\u001b[39;00m \u001b[38;5;167;01mKeyboardInterrupt\u001b[39;00m(msg) \u001b[38;5;28;01mfrom\u001b[39;00m \u001b[38;5;28;01mNone\u001b[39;00m\n\u001b[0;32m   1326\u001b[0m \u001b[38;5;28;01mexcept\u001b[39;00m \u001b[38;5;167;01mException\u001b[39;00m:\n\u001b[0;32m   1327\u001b[0m     \u001b[38;5;28mself\u001b[39m\u001b[38;5;241m.\u001b[39mlog\u001b[38;5;241m.\u001b[39mwarning(\u001b[38;5;124m\"\u001b[39m\u001b[38;5;124mInvalid Message:\u001b[39m\u001b[38;5;124m\"\u001b[39m, exc_info\u001b[38;5;241m=\u001b[39m\u001b[38;5;28;01mTrue\u001b[39;00m)\n",
      "\u001b[1;31mKeyboardInterrupt\u001b[0m: Interrupted by user"
     ]
    }
   ],
   "source": [
    "def calculate_difference(num):\n",
    "    sub = num - 17\n",
    "    if num > 17:\n",
    "        return 2 * sub\n",
    "    else:\n",
    "        return sub\n",
    "\n",
    "num = float(input(\"Enter the number: \"))\n",
    "result = calculate_difference(num)\n",
    "print(\"The result of subtraction is:\", result)\n"
   ]
  },
  {
   "cell_type": "markdown",
   "metadata": {},
   "source": [
    "## Question 8\n",
    "\n",
    "Write a program that accepts a string and checks if it starts with \"Is\"."
   ]
  },
  {
   "cell_type": "code",
   "execution_count": null,
   "metadata": {},
   "outputs": [
    {
     "name": "stdout",
     "output_type": "stream",
     "text": [
      "The string does not start with 'Is'\n"
     ]
    }
   ],
   "source": [
    "def starts_with_is(string):\n",
    "    if string.startswith(\"Is\"):\n",
    "        return True\n",
    "    else:\n",
    "        return False\n",
    "input_string = input(\"Enter a string: \")\n",
    "if starts_with_is(input_string):\n",
    "    print(\"The string starts with 'Is'\")\n",
    "else:\n",
    "    print(\"The string does not start with 'Is'\")\n"
   ]
  },
  {
   "cell_type": "markdown",
   "metadata": {},
   "source": [
    "## Question 9\n",
    "\n",
    "Write a program to get a string which is n (non-negative integer) copies of a given string."
   ]
  },
  {
   "cell_type": "code",
   "execution_count": null,
   "metadata": {},
   "outputs": [
    {
     "name": "stdout",
     "output_type": "stream",
     "text": [
      "Result: number number number number number number number number number number number number \n"
     ]
    }
   ],
   "source": [
    "def repeat_string(string, n):\n",
    "    if n < 0:\n",
    "        return \"Number of copies should be non-negative\"\n",
    "    else:\n",
    "        return string * n\n",
    "\n",
    "input_string = input(\"Enter a string: \")\n",
    "num_copies = int(input(\"Enter the number of copies (non-negative integer): \"))\n",
    "result = repeat_string(input_string, num_copies)\n",
    "print(\"Result:\", result)\n"
   ]
  },
  {
   "cell_type": "markdown",
   "metadata": {},
   "source": [
    "## Question 10 \n",
    "Write a program to find if a given number is odd or even.\n",
    "\n"
   ]
  },
  {
   "cell_type": "code",
   "execution_count": null,
   "metadata": {},
   "outputs": [
    {
     "name": "stdout",
     "output_type": "stream",
     "text": [
      "the number entered 123  is odd \n"
     ]
    }
   ],
   "source": [
    "num=int(input(\"enter the number \"))\n",
    "if num%2==0:\n",
    " print(\"the number entered\",num,\" is even\")\n",
    "else:\n",
    " print(\"the number entered\",num ,\" is odd \")"
   ]
  },
  {
   "cell_type": "markdown",
   "metadata": {},
   "source": [
    "## Question 11\n",
    "Write a program to check whether a character is a vowel or consonant.."
   ]
  },
  {
   "cell_type": "code",
   "execution_count": null,
   "metadata": {},
   "outputs": [
    {
     "name": "stdout",
     "output_type": "stream",
     "text": [
      "the character is consonant\n"
     ]
    }
   ],
   "source": [
    "char=input(\"enter the character \")\n",
    "if char in('a','e','i','o','u'):\n",
    " print(\"the character is vowel\")\n",
    "else:\n",
    " print(\"the character is consonant\")"
   ]
  },
  {
   "cell_type": "markdown",
   "metadata": {},
   "source": [
    "Question 12\n",
    "\n",
    "Write a program to calculate the area of a triangle when the base and height are given"
   ]
  },
  {
   "cell_type": "code",
   "execution_count": null,
   "metadata": {},
   "outputs": [
    {
     "name": "stdout",
     "output_type": "stream",
     "text": [
      "the area of triangle is  36.0 m^2\n"
     ]
    }
   ],
   "source": [
    "def area_triangle(h,b):\n",
    " return (1/2)*b*h\n",
    "print(\"the area of triangle is \",area_triangle(12,6),\"m^2\")"
   ]
  },
  {
   "cell_type": "markdown",
   "metadata": {},
   "source": [
    "## Question 13\n",
    "Write a program to return True if a number in the given list is even."
   ]
  },
  {
   "cell_type": "code",
   "execution_count": null,
   "metadata": {},
   "outputs": [
    {
     "name": "stdout",
     "output_type": "stream",
     "text": [
      "True\n"
     ]
    }
   ],
   "source": [
    "def has_even(numbers):\n",
    "    return any(num % 2 == 0 for num in numbers)\n",
    "\n",
    "\n",
    "input_list = [int(x) for x in input(\"Enter numbers separated by spaces: \").split()]\n",
    "if has_even(input_list):\n",
    "    print(\"True\")\n",
    "else:\n",
    "    print(\"False\")\n"
   ]
  },
  {
   "cell_type": "markdown",
   "metadata": {},
   "source": [
    "## Question 14\n",
    "Write a program to create a new string where 'xy' has been added to the front of a given string. If the string already begins with 'xy', return the string unchanged.\n"
   ]
  },
  {
   "cell_type": "code",
   "execution_count": null,
   "metadata": {},
   "outputs": [
    {
     "name": "stdout",
     "output_type": "stream",
     "text": [
      "Result: xyrupesh\n"
     ]
    }
   ],
   "source": [
    "def add_xy_to_string(input_string):\n",
    "    if input_string.startswith('xy'):\n",
    "        return input_string\n",
    "    else:\n",
    "        return 'xy' + input_string\n",
    "\n",
    "\n",
    "input_str = input(\"Enter a string: \")\n",
    "result = add_xy_to_string(input_str)\n",
    "print(\"Result:\", result)\n"
   ]
  },
  {
   "cell_type": "markdown",
   "metadata": {},
   "source": [
    "## Question 15\n",
    "Write a program to calculate the principal amount when the interest, time, and amount are given.\n"
   ]
  },
  {
   "cell_type": "code",
   "execution_count": null,
   "metadata": {},
   "outputs": [
    {
     "name": "stdout",
     "output_type": "stream",
     "text": [
      "the principle amount is  100000.0\n"
     ]
    }
   ],
   "source": [
    "def amount(i,t,r):\n",
    " return (i*100)/t*r \n",
    "\n",
    "print(\"the principle amount is \",amount(1000,3,3))"
   ]
  },
  {
   "cell_type": "markdown",
   "metadata": {},
   "source": [
    "## Question 16\n",
    "Write a program to calculate the distance between two points (x1, y1) and (x2, y2)."
   ]
  },
  {
   "cell_type": "code",
   "execution_count": null,
   "metadata": {},
   "outputs": [
    {
     "name": "stdout",
     "output_type": "stream",
     "text": [
      "Distance between points (1,2) and (4,6) is  5.0\n"
     ]
    }
   ],
   "source": [
    "import math\n",
    "\n",
    "def calculate_distance(x1, y1, x2, y2):\n",
    "    return math.sqrt((x2 - x1)**2 + (y2 - y1)**2)\n",
    "x1 = 1\n",
    "y1 = 2\n",
    "x2 = 4\n",
    "y2 = 6\n",
    "\n",
    "distance = calculate_distance(x1, y1, x2, y2)\n",
    "print(f\"Distance between points ({x1},{y1}) and ({x2},{y2}) is \", distance)\n"
   ]
  },
  {
   "cell_type": "markdown",
   "metadata": {},
   "source": [
    "## Question 17\n",
    "Write a program to convert height in feet and inches to centimeters."
   ]
  },
  {
   "cell_type": "code",
   "execution_count": null,
   "metadata": {},
   "outputs": [
    {
     "name": "stdout",
     "output_type": "stream",
     "text": [
      "the height from ft to cm is  91.44\n",
      "the height from inch to cm is  15.24\n",
      "the height from ft and inches to cm is   314.96\n"
     ]
    }
   ],
   "source": [
    "def ft_cm(ft):\n",
    " return ft*30.48\n",
    "print(\"the height from ft to cm is \",ft_cm(3))\n",
    "\n",
    "def inch_cm(inch):\n",
    " return inch*2.54\n",
    "print(\"the height from inch to cm is \",inch_cm(6))\n",
    "\n",
    "def total(ft,inch):\n",
    " inches=ft*12+inch\n",
    " return inch_cm(inches)\n",
    "print(\"the height from ft and inches to cm is  \",total(10,4))"
   ]
  },
  {
   "cell_type": "markdown",
   "metadata": {},
   "source": [
    "## Question 18\n",
    "Write a program to find the length of the hypotenuse of a right-angled triangle."
   ]
  },
  {
   "cell_type": "code",
   "execution_count": null,
   "metadata": {},
   "outputs": [
    {
     "name": "stdout",
     "output_type": "stream",
     "text": [
      "length of the hypotenous is  5.0\n"
     ]
    }
   ],
   "source": [
    "import math\n",
    "\n",
    "def hyp(p,b):\n",
    " return math.sqrt(p**2+b**2)\n",
    "\n",
    "print(\"length of the hypotenous is \",hyp(4,3))"
   ]
  },
  {
   "cell_type": "markdown",
   "metadata": {},
   "source": [
    "## Question 19\n",
    "Write a program to convert distance in kilometers to miles."
   ]
  },
  {
   "cell_type": "code",
   "execution_count": 35,
   "metadata": {},
   "outputs": [
    {
     "name": "stdout",
     "output_type": "stream",
     "text": [
      "the distance conversion from {km} to miles is   7.4556 miles\n"
     ]
    }
   ],
   "source": [
    "def km_mi(kmm):\n",
    " return (kmm*0.6213) \n",
    "print(\"the distance conversion from {km} to miles is  \",km_mi(12),\"miles\")"
   ]
  },
  {
   "cell_type": "markdown",
   "metadata": {},
   "source": [
    "## Question 20\n",
    "Write a program to convert days, hours, minutes, and seconds into seconds."
   ]
  },
  {
   "cell_type": "code",
   "execution_count": 36,
   "metadata": {},
   "outputs": [
    {
     "name": "stdout",
     "output_type": "stream",
     "text": [
      "Total seconds: 907991\n"
     ]
    }
   ],
   "source": [
    "def convert_to_seconds(days, hours, minutes, seconds):\n",
    "    total_seconds = (days * 24 * 60 * 60) + (hours * 60 * 60) + (minutes * 60) + seconds\n",
    "    return total_seconds\n",
    "\n",
    "def main():\n",
    "    days = int(input(\"Enter number of days: \"))\n",
    "    hours = int(input(\"Enter number of hours: \"))\n",
    "    minutes = int(input(\"Enter number of minutes: \"))\n",
    "    seconds = int(input(\"Enter number of seconds: \"))\n",
    "\n",
    "    total_seconds = convert_to_seconds(days, hours, minutes, seconds)\n",
    "    print(\"Total seconds:\", total_seconds)\n",
    "\n",
    "if __name__ == \"__main__\":\n",
    "    main()\n"
   ]
  },
  {
   "cell_type": "markdown",
   "metadata": {},
   "source": [
    "## Question 21\n",
    "Write a program to calculate Body Mass Index (BMI).\n"
   ]
  },
  {
   "cell_type": "code",
   "execution_count": 39,
   "metadata": {},
   "outputs": [
    {
     "name": "stdout",
     "output_type": "stream",
     "text": [
      "Your BMI is: 3.75\n",
      "You are underweight.\n"
     ]
    }
   ],
   "source": [
    "def calculate_bmi(weight_kg, height_m):\n",
    "    bmi = weight_kg / (height_m ** 2)\n",
    "    return bmi\n",
    "\n",
    "def main():\n",
    "    weight = float(input(\"Enter your weight in kilograms: \"))\n",
    "    height = float(input(\"Enter your height in meters: \"))\n",
    "\n",
    "    bmi = calculate_bmi(weight, height)\n",
    "    print(\"Your BMI is:\", bmi)\n",
    "\n",
    "    if bmi < 18.5:\n",
    "        print(\"You are underweight.\")\n",
    "    elif bmi >= 18.5 and bmi < 25:\n",
    "        print(\"You are normal weight.\")\n",
    "    elif bmi >= 25 and bmi < 30:\n",
    "        print(\"You are overweight.\")\n",
    "    else:\n",
    "        print(\"You are obese.\")\n",
    "\n",
    "if __name__ == \"__main__\":\n",
    "    main()\n"
   ]
  },
  {
   "cell_type": "markdown",
   "metadata": {},
   "source": [
    "## Question 22\n",
    "write a program to convert celcius to fahrenheit and vice versa."
   ]
  },
  {
   "cell_type": "code",
   "execution_count": 41,
   "metadata": {},
   "outputs": [
    {
     "name": "stdout",
     "output_type": "stream",
     "text": [
      "Temperature in Fahrenheit: 98.6\n"
     ]
    }
   ],
   "source": [
    "def celsius_to_fahrenheit(celsius):\n",
    "    fahrenheit = (celsius * 9/5) + 32\n",
    "    return fahrenheit\n",
    "\n",
    "def fahrenheit_to_celsius(fahrenheit):\n",
    "    celsius = (fahrenheit - 32) * 5/9\n",
    "    return celsius\n",
    "\n",
    "def main():\n",
    "    choice = input(\"Choose conversion:\\n1. Celsius to Fahrenheit\\n2. Fahrenheit to Celsius\\nEnter your choice (1 or 2): \")\n",
    "    \n",
    "    if choice == '1':\n",
    "        celsius = float(input(\"Enter temperature in Celsius: \"))\n",
    "        fahrenheit = celsius_to_fahrenheit(celsius)\n",
    "        print(\"Temperature in Fahrenheit:\", fahrenheit)\n",
    "    elif choice == '2':\n",
    "        fahrenheit = float(input(\"Enter temperature in Fahrenheit: \"))\n",
    "        celsius = fahrenheit_to_celsius(fahrenheit)\n",
    "        print(\"Temperature in Celsius:\", celsius)\n",
    "    else:\n",
    "        print(\"Invalid choice.\")\n",
    "\n",
    "if __name__ == \"__main__\":\n",
    "    main()\n"
   ]
  },
  {
   "cell_type": "markdown",
   "metadata": {},
   "source": [
    "## Question 23\n",
    "Write a program to sum the first 'n' positive integers.\n"
   ]
  },
  {
   "cell_type": "code",
   "execution_count": 52,
   "metadata": {},
   "outputs": [
    {
     "name": "stdout",
     "output_type": "stream",
     "text": [
      "The sum of first 10 natural numbers is 55.0\n"
     ]
    }
   ],
   "source": [
    "def sum_natural_numbers(n):\n",
    "    return n * (n + 1) / 2\n",
    "\n",
    "def main():\n",
    "    n = int(input(\"Enter the number: \"))\n",
    "    print(\"The sum of first\", n, \"natural numbers is\", sum_natural_numbers(n))\n",
    "\n",
    "if __name__ == \"__main__\":\n",
    "    main()\n"
   ]
  },
  {
   "cell_type": "markdown",
   "metadata": {},
   "source": [
    "## Question 24\n",
    "Write a program to calculate the sum of all the digits in a given integer.\n"
   ]
  },
  {
   "cell_type": "code",
   "execution_count": 54,
   "metadata": {},
   "outputs": [
    {
     "name": "stdout",
     "output_type": "stream",
     "text": [
      "The sum of digits in the integer 12345 is: 15\n"
     ]
    }
   ],
   "source": [
    "def sum_of_digits(number):\n",
    "    # Initialize sum to store the sum of digits\n",
    "    total = 0\n",
    "    \n",
    "    # Iterate through each digit of the number\n",
    "    while number > 0:\n",
    "        # Extract the last digit of the number\n",
    "        digit = number % 10\n",
    "        \n",
    "        # Add the digit to the total sum\n",
    "        total += digit\n",
    "        \n",
    "        # Remove the last digit from the number\n",
    "        number //= 10\n",
    "    \n",
    "    return total\n",
    "\n",
    "def main():\n",
    "    # Take input from the user\n",
    "    number = int(input(\"Enter an integer: \"))\n",
    "    \n",
    "    # Calculate the sum of digits\n",
    "    digit_sum = sum_of_digits(number)\n",
    "    \n",
    "    # Print the result\n",
    "    print(\"The sum of digits in the integer {} is: {}\".format(number, digit_sum))\n",
    "\n",
    "if __name__ == \"__main__\":\n",
    "    main()\n"
   ]
  },
  {
   "cell_type": "markdown",
   "metadata": {},
   "source": [
    "## Question 25\n",
    "Write a program to convert a decimal number into binary, octal, and hexadecimal.\n"
   ]
  },
  {
   "cell_type": "code",
   "execution_count": 55,
   "metadata": {},
   "outputs": [
    {
     "name": "stdout",
     "output_type": "stream",
     "text": [
      "Binary: 1111011\n",
      "Octal: 173\n",
      "Hexadecimal: 7B\n"
     ]
    }
   ],
   "source": [
    "def decimal_to_binary(decimal):\n",
    "    return bin(decimal)[2:]\n",
    "\n",
    "def decimal_to_octal(decimal):\n",
    "    return oct(decimal)[2:]\n",
    "\n",
    "def decimal_to_hexadecimal(decimal):\n",
    "    return hex(decimal)[2:].upper()\n",
    "\n",
    "def main():\n",
    "    decimal = int(input(\"Enter a decimal number: \"))\n",
    "\n",
    "    binary = decimal_to_binary(decimal)\n",
    "    octal = decimal_to_octal(decimal)\n",
    "    hexadecimal = decimal_to_hexadecimal(decimal)\n",
    "\n",
    "    print(\"Binary:\", binary)\n",
    "    print(\"Octal:\", octal)\n",
    "    print(\"Hexadecimal:\", hexadecimal)\n",
    "\n",
    "if __name__ == \"__main__\":\n",
    "    main()\n"
   ]
  },
  {
   "cell_type": "markdown",
   "metadata": {},
   "source": [
    "## Question 26\n",
    "Write a program to convert a binary number to decimal.\n"
   ]
  },
  {
   "cell_type": "code",
   "execution_count": 56,
   "metadata": {},
   "outputs": [
    {
     "name": "stdout",
     "output_type": "stream",
     "text": [
      "Decimal equivalent: 59\n"
     ]
    }
   ],
   "source": [
    "def binary_to_decimal(binary):\n",
    "    decimal = 0\n",
    "    power = len(binary) - 1\n",
    "    \n",
    "    for digit in binary:\n",
    "        decimal += int(digit) * (2 ** power)\n",
    "        power -= 1\n",
    "    \n",
    "    return decimal\n",
    "\n",
    "def main():\n",
    "    binary = input(\"Enter a binary number: \")\n",
    "\n",
    "    decimal = binary_to_decimal(binary)\n",
    "\n",
    "    print(\"Decimal equivalent:\", decimal)\n",
    "\n",
    "if __name__ == \"__main__\":\n",
    "    main()\n"
   ]
  },
  {
   "cell_type": "markdown",
   "metadata": {},
   "source": [
    "## Question 27\n",
    "Write a program to convert an octal number to decimal.\n"
   ]
  },
  {
   "cell_type": "code",
   "execution_count": 57,
   "metadata": {},
   "outputs": [
    {
     "name": "stdout",
     "output_type": "stream",
     "text": [
      "Decimal equivalent: 1894\n"
     ]
    }
   ],
   "source": [
    "def octal_to_decimal(octal):\n",
    "    decimal = 0\n",
    "    power = len(octal) - 1\n",
    "    \n",
    "    for digit in octal:\n",
    "        decimal += int(digit) * (8 ** power)\n",
    "        power -= 1\n",
    "    \n",
    "    return decimal\n",
    "\n",
    "def main():\n",
    "    octal = input(\"Enter an octal number: \")\n",
    "\n",
    "    decimal = octal_to_decimal(octal)\n",
    "\n",
    "    print(\"Decimal equivalent:\", decimal)\n",
    "\n",
    "if __name__ == \"__main__\":\n",
    "    main()\n"
   ]
  },
  {
   "cell_type": "markdown",
   "metadata": {},
   "source": [
    "## Question 28\n",
    "Write a program to convert a hexadecimal number to decimal.\n"
   ]
  },
  {
   "cell_type": "code",
   "execution_count": 58,
   "metadata": {},
   "outputs": [
    {
     "name": "stdout",
     "output_type": "stream",
     "text": [
      "Decimal equivalent: 43604\n"
     ]
    }
   ],
   "source": [
    "def hexadecimal_to_decimal(hexadecimal):\n",
    "    decimal = 0\n",
    "    power = len(hexadecimal) - 1\n",
    "    \n",
    "    for digit in hexadecimal:\n",
    "        if digit.isdigit():\n",
    "            decimal += int(digit) * (16 ** power)\n",
    "        else:\n",
    "            decimal += (ord(digit.upper()) - 55) * (16 ** power)\n",
    "        power -= 1\n",
    "    \n",
    "    return decimal\n",
    "\n",
    "def main():\n",
    "    hexadecimal = input(\"Enter a hexadecimal number: \")\n",
    "\n",
    "    decimal = hexadecimal_to_decimal(hexadecimal)\n",
    "\n",
    "    print(\"Decimal equivalent:\", decimal)\n",
    "\n",
    "if __name__ == \"__main__\":\n",
    "    main()\n"
   ]
  },
  {
   "cell_type": "markdown",
   "metadata": {},
   "source": [
    "## Question 29\n",
    "Write a program to count the number of occurrences of a specific character in a string.\n"
   ]
  },
  {
   "cell_type": "code",
   "execution_count": 1,
   "metadata": {},
   "outputs": [
    {
     "name": "stdout",
     "output_type": "stream",
     "text": [
      "The character 'o' occurs 2 times in the string.\n"
     ]
    }
   ],
   "source": [
    "def count_occurrences(string, char):\n",
    "    count = 0\n",
    "    for c in string:\n",
    "        if c == char:\n",
    "            count += 1\n",
    "    return count\n",
    "\n",
    "# Example usage:\n",
    "string = \"Hello, world!\"\n",
    "character = \"o\"\n",
    "print(f\"The character '{character}' occurs {count_occurrences(string, character)} times in the string.\")\n"
   ]
  },
  {
   "cell_type": "markdown",
   "metadata": {},
   "source": [
    "## Question 30\n",
    "Write a program to find the greatest common divisor (GCD) or highest common factor (HCF) of two numbers.\n"
   ]
  },
  {
   "cell_type": "code",
   "execution_count": 2,
   "metadata": {},
   "outputs": [
    {
     "name": "stdout",
     "output_type": "stream",
     "text": [
      "The GCD of 48 and 18 is 6.\n"
     ]
    }
   ],
   "source": [
    "def gcd(a, b):\n",
    "    while b:\n",
    "        a, b = b, a % b\n",
    "    return a\n",
    "\n",
    "# Example usage:\n",
    "num1 = 48\n",
    "num2 = 18\n",
    "print(f\"The GCD of {num1} and {num2} is {gcd(num1, num2)}.\")\n"
   ]
  },
  {
   "cell_type": "markdown",
   "metadata": {},
   "source": [
    "## Question 31\n",
    "Write a program to find the least common multiple (LCM) of two numbers.\n"
   ]
  },
  {
   "cell_type": "code",
   "execution_count": 3,
   "metadata": {},
   "outputs": [
    {
     "name": "stdout",
     "output_type": "stream",
     "text": [
      "The LCM of 12 and 18 is 36.\n"
     ]
    }
   ],
   "source": [
    "def gcd(a, b):\n",
    "    while b:\n",
    "        a, b = b, a % b\n",
    "    return a\n",
    "\n",
    "def lcm(a, b):\n",
    "    return (a * b) // gcd(a, b)\n",
    "\n",
    "# Example usage:\n",
    "num1 = 12\n",
    "num2 = 18\n",
    "print(f\"The LCM of {num1} and {num2} is {lcm(num1, num2)}.\")\n",
    "\n"
   ]
  },
  {
   "cell_type": "markdown",
   "metadata": {},
   "source": [
    "## Question 32\n",
    "Write a program to reverse a given name.\n"
   ]
  },
  {
   "cell_type": "code",
   "execution_count": 4,
   "metadata": {},
   "outputs": [
    {
     "name": "stdout",
     "output_type": "stream",
     "text": [
      "The reversed name of 'John' is 'nhoJ'.\n"
     ]
    }
   ],
   "source": [
    "def reverse_name(name):\n",
    "    return name[::-1]\n",
    "\n",
    "# Example usage:\n",
    "name = \"John\"\n",
    "reversed_name = reverse_name(name)\n",
    "print(f\"The reversed name of '{name}' is '{reversed_name}'.\")\n"
   ]
  },
  {
   "cell_type": "markdown",
   "metadata": {},
   "source": [
    "## Question 33\n",
    "Write a program to count the occurrences of a substring in a given string.\n"
   ]
  },
  {
   "cell_type": "code",
   "execution_count": 5,
   "metadata": {},
   "outputs": [
    {
     "name": "stdout",
     "output_type": "stream",
     "text": [
      "The substring 'hello' occurs 3 times in the string.\n"
     ]
    }
   ],
   "source": [
    "def count_substring_occurrences(string, substring):\n",
    "    return string.count(substring)\n",
    "\n",
    "# Example usage:\n",
    "string = \"hello hello world hello\"\n",
    "substring = \"hello\"\n",
    "occurrences = count_substring_occurrences(string, substring)\n",
    "print(f\"The substring '{substring}' occurs {occurrences} times in the string.\")\n"
   ]
  },
  {
   "cell_type": "markdown",
   "metadata": {},
   "source": [
    "## Question 34\n",
    "Write a program to distribute a given amount into notes.\n"
   ]
  },
  {
   "cell_type": "code",
   "execution_count": 6,
   "metadata": {},
   "outputs": [
    {
     "name": "stdout",
     "output_type": "stream",
     "text": [
      "Amount 5378 can be distributed into notes as follows:\n",
      "2 notes of 2000\n",
      "2 notes of 500\n",
      "1 notes of 200\n",
      "1 notes of 100\n",
      "1 notes of 50\n",
      "1 notes of 20\n",
      "1 notes of 5\n",
      "1 notes of 2\n",
      "1 notes of 1\n"
     ]
    }
   ],
   "source": [
    "def distribute_notes(amount):\n",
    "    notes = [2000, 500, 200, 100, 50, 20, 10, 5, 2, 1]\n",
    "    note_count = {}\n",
    "\n",
    "    for note in notes:\n",
    "        count = amount // note\n",
    "        if count > 0:\n",
    "            note_count[note] = count\n",
    "            amount %= note\n",
    "\n",
    "    return note_count\n",
    "\n",
    "# Example usage:\n",
    "amount = 5378\n",
    "distributed_notes = distribute_notes(amount)\n",
    "print(f\"Amount {amount} can be distributed into notes as follows:\")\n",
    "for note, count in distributed_notes.items():\n",
    "    print(f\"{count} notes of {note}\")\n"
   ]
  },
  {
   "cell_type": "markdown",
   "metadata": {},
   "source": [
    "## Question 35\n",
    "Write a program to check whether a given string is a palindrome or not.\n"
   ]
  },
  {
   "cell_type": "code",
   "execution_count": 7,
   "metadata": {},
   "outputs": [
    {
     "name": "stdout",
     "output_type": "stream",
     "text": [
      "The string 'A man, a plan, a canal, Panama!' is a palindrome.\n"
     ]
    }
   ],
   "source": [
    "def is_palindrome(s):\n",
    "    s = s.lower()  \n",
    "    s = ''.join(char for char in s if char.isalnum())  \n",
    "    return s == s[::-1]\n",
    "\n",
    "\n",
    "string = \"A man, a plan, a canal, Panama!\"\n",
    "result = is_palindrome(string)\n",
    "if result:\n",
    "    print(f\"The string '{string}' is a palindrome.\")\n",
    "else:\n",
    "    print(f\"The string '{string}' is not a palindrome.\")\n"
   ]
  },
  {
   "cell_type": "markdown",
   "metadata": {},
   "source": [
    "## Question 36\n",
    "Write a program to check whether a given number is a palindrome or not.\n"
   ]
  },
  {
   "cell_type": "code",
   "execution_count": 68,
   "metadata": {},
   "outputs": [
    {
     "name": "stdout",
     "output_type": "stream",
     "text": [
      "121 is a palindrome.\n"
     ]
    }
   ],
   "source": [
    "def is_palindrome(number):\n",
    "    # Convert the number to a string\n",
    "    num_str = str(number)\n",
    "    \n",
    "    # Check if the string is equal to its reverse\n",
    "    return num_str == num_str[::-1]\n",
    "\n",
    "def main():\n",
    "    number = input(\"Enter a number: \")\n",
    "\n",
    "    if is_palindrome(number):\n",
    "        print(number, \"is a palindrome.\")\n",
    "    else:\n",
    "        print(number, \"is not a palindrome.\")\n",
    "\n",
    "if __name__ == \"__main__\":\n",
    "    main()\n"
   ]
  },
  {
   "cell_type": "markdown",
   "metadata": {},
   "source": [
    "## Question 37\n",
    "Write a program to generate the Fibonacci series.\n"
   ]
  },
  {
   "cell_type": "code",
   "execution_count": 67,
   "metadata": {},
   "outputs": [
    {
     "name": "stdout",
     "output_type": "stream",
     "text": [
      "Fibonacci series up to 7 terms:\n",
      "[0, 1, 1, 2, 3, 5, 8]\n"
     ]
    }
   ],
   "source": [
    "def fibonacci(n):\n",
    "    fibonacci_series = []\n",
    "    if n <= 0:\n",
    "        return fibonacci_series\n",
    "    elif n == 1:\n",
    "        fibonacci_series.append(0)\n",
    "        return fibonacci_series\n",
    "    else:\n",
    "        fibonacci_series = [0, 1]\n",
    "        for i in range(2, n):\n",
    "            next_term = fibonacci_series[-1] + fibonacci_series[-2]\n",
    "            fibonacci_series.append(next_term)\n",
    "        return fibonacci_series\n",
    "\n",
    "def main():\n",
    "    n = int(input(\"Enter the number of terms for Fibonacci series: \"))\n",
    "\n",
    "    fibonacci_series = fibonacci(n)\n",
    "\n",
    "    print(\"Fibonacci series up to\", n, \"terms:\")\n",
    "    print(fibonacci_series)\n",
    "\n",
    "if __name__ == \"__main__\":\n",
    "    main()\n",
    " "
   ]
  },
  {
   "cell_type": "markdown",
   "metadata": {},
   "source": [
    "## Question 38\n",
    "Write a program to print the multiplication table of a given number.\n"
   ]
  },
  {
   "cell_type": "code",
   "execution_count": 66,
   "metadata": {},
   "outputs": [
    {
     "name": "stdout",
     "output_type": "stream",
     "text": [
      "multiple of number  is \n",
      "0\n",
      "5\n",
      "10\n",
      "15\n",
      "20\n",
      "25\n",
      "30\n",
      "35\n",
      "40\n",
      "45\n",
      "50\n"
     ]
    }
   ],
   "source": [
    "def multiple(n):\n",
    " return n*i\n",
    "print(\"multiple of number  is \")\n",
    "\n",
    "for i in range(11):\n",
    " print(multiple(5))"
   ]
  },
  {
   "cell_type": "markdown",
   "metadata": {},
   "source": [
    "## Question 39\n",
    "Write a program to count the number of letters and digits in a given string.\n"
   ]
  },
  {
   "cell_type": "code",
   "execution_count": 59,
   "metadata": {},
   "outputs": [
    {
     "name": "stdout",
     "output_type": "stream",
     "text": [
      "Number of letters: 20\n",
      "Number of digits: 5\n"
     ]
    }
   ],
   "source": [
    "def count_letters_digits(string):\n",
    "    letter_count = 0\n",
    "    digit_count = 0\n",
    "    \n",
    "    for char in string:\n",
    "        if char.isalpha():\n",
    "            letter_count += 1\n",
    "        elif char.isdigit():\n",
    "            digit_count += 1\n",
    "    \n",
    "    return letter_count, digit_count\n",
    "\n",
    "def main():\n",
    "    string = input(\"Enter a string: \")\n",
    "\n",
    "    letter_count, digit_count = count_letters_digits(string)\n",
    "\n",
    "    print(\"Number of letters:\", letter_count)\n",
    "    print(\"Number of digits:\", digit_count)\n",
    "\n",
    "if __name__ == \"__main__\":\n",
    "    main()\n"
   ]
  },
  {
   "cell_type": "markdown",
   "metadata": {},
   "source": [
    "## Question 40\n",
    "Write a program to print the following pattern:\n"
   ]
  }
 ],
 "metadata": {
  "anaconda-cloud": {},
  "kernelspec": {
   "display_name": "Python 3 (ipykernel)",
   "language": "python",
   "name": "python3"
  },
  "language_info": {
   "codemirror_mode": {
    "name": "ipython",
    "version": 3
   },
   "file_extension": ".py",
   "mimetype": "text/x-python",
   "name": "python",
   "nbconvert_exporter": "python",
   "pygments_lexer": "ipython3",
   "version": "3.12.2"
  }
 },
 "nbformat": 4,
 "nbformat_minor": 4
}
