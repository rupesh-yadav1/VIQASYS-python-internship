{
 "cells": [
  {
   "cell_type": "markdown",
   "id": "5007131b-0512-417f-aed1-840600ca6f05",
   "metadata": {},
   "source": [
    "___\n",
    "\n",
    "<a href='https://viqasys.com/wp-content/uploads/2021/07/ns1.png'><img src='https://viqasys.com/wp-content/uploads/2021/07/ns1.png'/></a>\n",
    "___\n",
    "<center><em>Content Copyright VIQASYS INNOVATIONS PVT LTD.</em></center>\n",
    "\n",
    "# Assignment 3"
   ]
  },
  {
   "cell_type": "markdown",
   "id": "ac51df3b-2409-40a4-9072-da5bb6601ed8",
   "metadata": {},
   "source": [
    "## Question 1\n",
    "Write a Python program to create a list with the following elements: 4, 8, 9, 'apple', 'banana', 'cherry'. Print the list."
   ]
  },
  {
   "cell_type": "code",
   "execution_count": 14,
   "id": "82a6721f",
   "metadata": {},
   "outputs": [
    {
     "name": "stdout",
     "output_type": "stream",
     "text": [
      "[4, 8, 9, 'apple', 'banana', 'cherry']\n"
     ]
    }
   ],
   "source": [
    "list = [4,8,9,'apple','banana','cherry']\n",
    "print(list)\n",
    "        "
   ]
  },
  {
   "cell_type": "markdown",
   "id": "f185ce21-1f5f-4e3f-8131-c5c4390cd870",
   "metadata": {},
   "source": [
    "## Question 2\n",
    "Given the list [10, 20, 30, 40, 50], write a Python script to print the second and fourth elements."
   ]
  },
  {
   "cell_type": "code",
   "execution_count": 15,
   "id": "27574ee0",
   "metadata": {},
   "outputs": [
    {
     "name": "stdout",
     "output_type": "stream",
     "text": [
      "Second Number: 20\n",
      "Fourth Number: 40\n"
     ]
    }
   ],
   "source": [
    "my_list = [10, 20, 30, 40, 50]\n",
    "print(f'Second Number: {my_list[1]}')\n",
    "print(f'Fourth Number: {my_list[3]}')"
   ]
  },
  {
   "cell_type": "markdown",
   "id": "44467356-de20-4dca-ba7d-868cfa67fa51",
   "metadata": {},
   "source": [
    "## Question 3\n",
    "Create a list of the first 10 even numbers. Write a Python program to print the first half of the list using slicing."
   ]
  },
  {
   "cell_type": "code",
   "execution_count": 16,
   "id": "8676b25d-15a0-4ef1-972e-3ad380d84633",
   "metadata": {},
   "outputs": [
    {
     "name": "stdout",
     "output_type": "stream",
     "text": [
      "first half of the list [2, 4, 6, 8, 10]\n"
     ]
    }
   ],
   "source": [
    "list = [2,4,6,8,10,12,14,16,18,20]\n",
    "first_half = list[:len(list)//2]\n",
    "print(f'first half of the list {first_half}')"
   ]
  },
  {
   "cell_type": "markdown",
   "id": "98a8e914-d78b-4890-8440-0e869a248917",
   "metadata": {},
   "source": [
    "## Question 4\n",
    "Here is a list: [\"red\", \"green\", \"blue\"]. Change the element \"blue\" to \"yellow\" and print the updated list."
   ]
  },
  {
   "cell_type": "code",
   "execution_count": 17,
   "id": "e3166115-e768-4940-8d38-7aef92261a7a",
   "metadata": {},
   "outputs": [
    {
     "name": "stdout",
     "output_type": "stream",
     "text": [
      "['red', 'green', 'yellow']\n"
     ]
    }
   ],
   "source": [
    "list = ['red', 'green', 'blue']\n",
    "list.remove('blue')\n",
    "list.append('yellow')\n",
    "print(list)"
   ]
  },
  {
   "cell_type": "markdown",
   "id": "d0f8e0f7-20d9-4537-b8d5-a4f187915fb0",
   "metadata": {},
   "source": [
    "## Question 5\n",
    "Start with an empty list. Write a Python program to append 'apple', 'banana', and 'cherry' to the list using separate append calls, then print the list."
   ]
  },
  {
   "cell_type": "code",
   "execution_count": 18,
   "id": "412e0bc7-ecd4-45f1-b8e9-cfef7bde7f5a",
   "metadata": {},
   "outputs": [
    {
     "name": "stdout",
     "output_type": "stream",
     "text": [
      "['apple', 'banana', 'cherry']\n"
     ]
    }
   ],
   "source": [
    "list = []\n",
    "list.append('apple')\n",
    "list.append('banana')\n",
    "list.append('cherry')\n",
    "print(list)"
   ]
  },
  {
   "cell_type": "markdown",
   "id": "12e6a191-cf00-4906-ba66-110a1985959c",
   "metadata": {},
   "source": [
    "## Question 6\n",
    "Given two lists, [1, 2, 3] and [4, 5, 6], write a Python script that extends the first list with the second list and prints the updated list."
   ]
  },
  {
   "cell_type": "code",
   "execution_count": 10,
   "id": "66a96440-5dd3-4079-932e-994cd4d71ff7",
   "metadata": {},
   "outputs": [
    {
     "name": "stdout",
     "output_type": "stream",
     "text": [
      "[1, 2, 3, 4, 5, 6]\n"
     ]
    }
   ],
   "source": [
    "list1 = [1,2,3]\n",
    "list2 = [4,5,6]\n",
    "new_list = []\n",
    "new_list.extend(list1)\n",
    "new_list.extend(list2)\n",
    "print(new_list)"
   ]
  },
  {
   "cell_type": "markdown",
   "id": "f87f4b36-fc85-41f4-9493-936f1b224caf",
   "metadata": {},
   "source": [
    "## Question 7\n",
    "Here is a list: [1, 2, 4]. Insert the number 3 at the appropriate position to maintain sorted order and print the list."
   ]
  },
  {
   "cell_type": "code",
   "execution_count": 22,
   "id": "34b70378-e9f2-4bba-80d9-8eacf4da42ef",
   "metadata": {},
   "outputs": [
    {
     "name": "stdout",
     "output_type": "stream",
     "text": [
      "[1, 2, 3, 4]\n"
     ]
    }
   ],
   "source": [
    "list = [1,2,4]\n",
    "list.insert(2,3)\n",
    "print(list)"
   ]
  },
  {
   "cell_type": "markdown",
   "id": "5c64bb21-2114-4448-a2de-516e5c9f30aa",
   "metadata": {},
   "source": [
    "## Question 8\n",
    "From the list [1, 2, 3, 4, 5, 3], write a Python program to remove the first occurrence of the number 3."
   ]
  },
  {
   "cell_type": "code",
   "execution_count": 23,
   "id": "927ae20e-959e-4bcf-bf27-0c3a2e8573e7",
   "metadata": {},
   "outputs": [
    {
     "name": "stdout",
     "output_type": "stream",
     "text": [
      "[1, 2, 4, 5, 3]\n"
     ]
    }
   ],
   "source": [
    "list = [1,2,3,4,5,3]\n",
    "list.remove(3)\n",
    "print(list)"
   ]
  },
  {
   "cell_type": "markdown",
   "id": "7f2564e4-324a-4def-b103-207400abbb68",
   "metadata": {},
   "source": [
    "## Question 9\n",
    "Using the list [10, 20, 30, 40, 50], write a Python script to remove and print the last element."
   ]
  },
  {
   "cell_type": "code",
   "execution_count": 30,
   "id": "633f3a15-befd-4bdd-91b8-e17fddcd4a46",
   "metadata": {},
   "outputs": [
    {
     "name": "stdout",
     "output_type": "stream",
     "text": [
      "50\n",
      "[10, 20, 30, 40]\n"
     ]
    }
   ],
   "source": [
    "list = [10,20,30,40,50]\n",
    "for i in range(len(list)):\n",
    "    if i == (len(list)-1):\n",
    "        print(list[i])\n",
    "        del list[i]\n",
    "print(list)"
   ]
  },
  {
   "cell_type": "markdown",
   "id": "a28a2c78-4d2d-423f-a713-93e3c488dd32",
   "metadata": {},
   "source": [
    "## Question 10\n",
    "Take the list [1, 2, 3, 4, 5] and write a Python script that empties the list and prints it."
   ]
  },
  {
   "cell_type": "code",
   "execution_count": 33,
   "id": "b5d6d53d-d00b-40b6-aacd-a284ef3f1f97",
   "metadata": {},
   "outputs": [
    {
     "name": "stdout",
     "output_type": "stream",
     "text": [
      "[]\n"
     ]
    }
   ],
   "source": [
    "list = [1,2,3,4,5]\n",
    "\n",
    "for i in range(len(list)):\n",
    "    del list[0]\n",
    "print(list)"
   ]
  },
  {
   "cell_type": "markdown",
   "id": "17ab293b-73b8-48be-a1ba-5a61b891977b",
   "metadata": {},
   "source": [
    "## Question 11\n",
    "Write a Python program to find the number of elements in the list [1, 2, 3, 4, 5, 6, 7, 8, 9]."
   ]
  },
  {
   "cell_type": "code",
   "execution_count": 34,
   "id": "876d026c-7aae-4f82-89cb-a1e6f776cc88",
   "metadata": {},
   "outputs": [
    {
     "name": "stdout",
     "output_type": "stream",
     "text": [
      "9\n"
     ]
    }
   ],
   "source": [
    "list = [1,2,3,4,5,6,7,8,9]\n",
    "count = 0\n",
    "for i in list:\n",
    "    count = count+1\n",
    "print(count)"
   ]
  },
  {
   "cell_type": "markdown",
   "id": "5cdc585a-ad90-4ff7-a205-2f6c697e0212",
   "metadata": {},
   "source": [
    "## Question 12\n",
    "Given the list ['apple', 'banana', 'apple', 'cherry'], count and print how many times 'apple' appears in the list."
   ]
  },
  {
   "cell_type": "code",
   "execution_count": 35,
   "id": "db15a2a8-60aa-4bd8-b535-3890693f043c",
   "metadata": {},
   "outputs": [
    {
     "name": "stdout",
     "output_type": "stream",
     "text": [
      "2\n"
     ]
    }
   ],
   "source": [
    "list = ['apple', 'banana', 'apple', 'cherry']\n",
    "count = 0\n",
    "for i in list:\n",
    "    if i == 'apple':\n",
    "        count = count + 1\n",
    "\n",
    "print(count)"
   ]
  },
  {
   "cell_type": "markdown",
   "id": "74ed49f8-5dcb-4dd2-901b-089baf87bc7f",
   "metadata": {},
   "source": [
    "## Question 13\n",
    "Create a list of the words ['banana', 'apple', 'cherry']. Write a Python program to sort the list alphabetically and print it."
   ]
  },
  {
   "cell_type": "code",
   "execution_count": 37,
   "id": "b973bb53-8636-4f08-b03d-7dcdf3462580",
   "metadata": {},
   "outputs": [
    {
     "name": "stdout",
     "output_type": "stream",
     "text": [
      "['apple', 'banana', 'cherry']\n"
     ]
    }
   ],
   "source": [
    "list = ['banana', 'apple', 'cherry']\n",
    "print(sorted(list))"
   ]
  },
  {
   "cell_type": "markdown",
   "id": "1055bf83-09c9-4ca0-b977-82a4550f77ce",
   "metadata": {},
   "source": [
    "## Question 14\n",
    "Given the list [1, 2, 3, 4, 5], write a script that reverses the list and prints it."
   ]
  },
  {
   "cell_type": "code",
   "execution_count": 40,
   "id": "ff8a45dc-3d25-427f-9a94-5d27ab48acea",
   "metadata": {},
   "outputs": [
    {
     "name": "stdout",
     "output_type": "stream",
     "text": [
      "[5, 4, 3, 2, 1]\n"
     ]
    }
   ],
   "source": [
    "list = [1,2,3,4,5]\n",
    "rev_list = []\n",
    "\n",
    "for i in range(len(list)-1, -1, -1):\n",
    "    rev_list.append(list[i])\n",
    "print(rev_list)"
   ]
  },
  {
   "cell_type": "markdown",
   "id": "2f898254-a16a-4b58-b612-365001301073",
   "metadata": {},
   "source": [
    "## Question 15\n",
    "Check if the value 'cat' exists in the list ['dog', 'rabbit', 'horse'] and print the result as a boolean value."
   ]
  },
  {
   "cell_type": "code",
   "execution_count": 3,
   "id": "8b3668e2",
   "metadata": {},
   "outputs": [
    {
     "name": "stdout",
     "output_type": "stream",
     "text": [
      "False\n"
     ]
    }
   ],
   "source": [
    "list=['dog','rabbit','horse']\n",
    "i='cat'\n",
    "if i in list:\n",
    "    print('True')\n",
    "else:       \n",
    "    print('False')"
   ]
  },
  {
   "cell_type": "markdown",
   "id": "35ff41d7-1834-4fef-859b-7b13f83c99d0",
   "metadata": {},
   "source": [
    "## Question 16\n",
    "Copy the contents of list a = [1, 2, 3] into a new list b and print both lists."
   ]
  },
  {
   "cell_type": "code",
   "execution_count": 5,
   "id": "17007da4-ec13-4f37-8436-f2e570f75325",
   "metadata": {},
   "outputs": [
    {
     "name": "stdout",
     "output_type": "stream",
     "text": [
      "Original list a: [1, 2, 3]\n",
      "After Copy list b: [1, 2, 3]\n"
     ]
    }
   ],
   "source": [
    "a=[1,2,3]\n",
    "b=a[:]\n",
    "print('Original list a:',a)\n",
    "print('After Copy list b:',a)\n",
    "\n"
   ]
  },
  {
   "cell_type": "markdown",
   "id": "89323cad-c11c-4f28-bc60-a90288f16153",
   "metadata": {},
   "source": [
    "## Question 17\n",
    "Using list comprehension, create a list of squares for numbers from 1 to 10 and print the list."
   ]
  },
  {
   "cell_type": "code",
   "execution_count": 7,
   "id": "c5833a04-7ff2-45eb-945f-5692c8c586a2",
   "metadata": {},
   "outputs": [
    {
     "name": "stdout",
     "output_type": "stream",
     "text": [
      "[1, 4, 9, 16, 25, 36, 49, 64, 81, 100]\n"
     ]
    }
   ],
   "source": [
    "squares = [i**2 for i in range(1,11)]\n",
    "print(squares)"
   ]
  },
  {
   "cell_type": "markdown",
   "id": "0a9dbda1-e89d-4e60-bfa4-aa75af4a0e1f",
   "metadata": {},
   "source": [
    "## Question 18\n",
    "Here is a nested list: [[1, 2], [3, 4], [5, 6]]. Access and print the second element of the first nested list."
   ]
  },
  {
   "cell_type": "code",
   "execution_count": 10,
   "id": "de58f0e6-34d9-4864-888d-73803b83a86a",
   "metadata": {},
   "outputs": [
    {
     "name": "stdout",
     "output_type": "stream",
     "text": [
      "Second Number: 2\n"
     ]
    }
   ],
   "source": [
    "nested_list = [[1,2],[3,4],[5,6]]\n",
    "print(f'Second Number: {nested_list[0][1]}')\n"
   ]
  },
  {
   "cell_type": "markdown",
   "id": "7fd88b7f-e099-4405-9642-8947aa036bba",
   "metadata": {},
   "source": [
    "## Question 19\n",
    "Concatenate the lists [1, 2, 3] and [4, 5, 6] into a single list and print the result."
   ]
  },
  {
   "cell_type": "code",
   "execution_count": 12,
   "id": "fc1d6efb-8930-405c-b465-40f58b86ec74",
   "metadata": {},
   "outputs": [
    {
     "name": "stdout",
     "output_type": "stream",
     "text": [
      "[1, 2, 3, 4, 5, 6]\n"
     ]
    }
   ],
   "source": [
    "list1 = [1,2,3]\n",
    "list2 = [4,5,6]\n",
    "list1.extend(list2)\n",
    "print(list1)"
   ]
  },
  {
   "cell_type": "markdown",
   "id": "d33e6ce9-9610-4065-b5c3-7a0f2e495ace",
   "metadata": {},
   "source": [
    "## Question 20\n",
    "Using a list as a stack, push the elements 10, 20, 30, one by one, and then pop each one in LIFO order, printing each popped element."
   ]
  },
  {
   "cell_type": "code",
   "execution_count": 15,
   "id": "8c2c8bd4-aa66-47b0-971b-7473378cff2f",
   "metadata": {},
   "outputs": [
    {
     "name": "stdout",
     "output_type": "stream",
     "text": [
      "30\n",
      "20\n",
      "10\n"
     ]
    }
   ],
   "source": [
    "stack_list =[]\n",
    "# Pushing elements onto the stack\n",
    "stack_list.append(10)\n",
    "stack_list.append(20)\n",
    "stack_list.append(30)\n",
    "\n",
    "# Popping elements off the stack in LIFO order and printing each popped element\n",
    "while stack_list:\n",
    "    popped_element = stack_list.pop()\n",
    "    print(popped_element)"
   ]
  }
 ],
 "metadata": {
  "kernelspec": {
   "display_name": "Python 3 (ipykernel)",
   "language": "python",
   "name": "python3"
  },
  "language_info": {
   "codemirror_mode": {
    "name": "ipython",
    "version": 3
   },
   "file_extension": ".py",
   "mimetype": "text/x-python",
   "name": "python",
   "nbconvert_exporter": "python",
   "pygments_lexer": "ipython3",
   "version": "3.12.2"
  }
 },
 "nbformat": 4,
 "nbformat_minor": 5
}
